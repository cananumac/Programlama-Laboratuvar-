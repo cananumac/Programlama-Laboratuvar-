{
 "cells": [
  {
   "cell_type": "code",
   "execution_count": 1,
   "metadata": {},
   "outputs": [],
   "source": [
    "def min_heapify(array,i):\n",
    "    left= 2 * i + 1\n",
    "    right= 2 * i + 2\n",
    "    length= len(array)-1\n",
    "    smallest= i\n",
    "    \n",
    "    if left <= length and array[i] > array[left]:\n",
    "        smallest=left\n",
    "    if right <= length and array[smallest] > array[right]:\n",
    "        smallest = right \n",
    "    if smallest != i:\n",
    "        array[i], array[smallest] = array[smallest] , array[i]\n",
    "        min_heapify(array,smallest)"
   ]
  },
  {
   "cell_type": "code",
   "execution_count": 2,
   "metadata": {},
   "outputs": [],
   "source": [
    "def build_min_heap(array):\n",
    "    for i in reversed(range(len(array)//2)):\n",
    "        min_heapify(array,i)"
   ]
  },
  {
   "cell_type": "code",
   "execution_count": 3,
   "metadata": {},
   "outputs": [
    {
     "data": {
      "text/plain": [
       "[1, 2, 3, 4, 7, 15, 8, 10, 16]"
      ]
     },
     "execution_count": 3,
     "metadata": {},
     "output_type": "execute_result"
    }
   ],
   "source": [
    "my_array_1=[8,10,3,4,7,15,1,2,16]\n",
    "build_min_heap(my_array_1)\n",
    "my_array_1"
   ]
  },
  {
   "cell_type": "code",
   "execution_count": 4,
   "metadata": {},
   "outputs": [],
   "source": [
    "def heapsort(array):\n",
    "    array= array.copy()\n",
    "    build_min_heap(array)\n",
    "    sorted_array=[]\n",
    "    for _ in range(len(array)):\n",
    "        array[0] , array[-1] = array[-1] , array[0]\n",
    "        sorted_array.append(array.pop())\n",
    "        min_heapify(array,0)\n",
    "    return sorted_array"
   ]
  },
  {
   "cell_type": "code",
   "execution_count": 5,
   "metadata": {},
   "outputs": [
    {
     "data": {
      "text/plain": [
       "([8, 10, 3, 4, 7, 15, 1, 2, 16], [1, 2, 3, 4, 7, 8, 10, 15, 16])"
      ]
     },
     "execution_count": 5,
     "metadata": {},
     "output_type": "execute_result"
    }
   ],
   "source": [
    "my_array_1=[8,10,3,4,7,15,1,2,16]\n",
    "my_array_2=heapsort(my_array_1)\n",
    "my_array_1,my_array_2"
   ]
  },
  {
   "cell_type": "code",
   "execution_count": 6,
   "metadata": {},
   "outputs": [],
   "source": [
    "def insertItemToHeap(myheap_1,item):\n",
    "    myheap_1.append(item)"
   ]
  },
  {
   "cell_type": "code",
   "execution_count": 7,
   "metadata": {},
   "outputs": [
    {
     "data": {
      "text/plain": [
       "[1, 2, 3, 4, 7, 8, 10, 15, 16, 66]"
      ]
     },
     "execution_count": 7,
     "metadata": {},
     "output_type": "execute_result"
    }
   ],
   "source": [
    "my_array_1=[8,10,3,4,7,15,1,2,16]\n",
    "insertItemToHeap(my_array_1,66)\n",
    "my_array_2=heapsort(my_array_1)\n",
    "my_array_2"
   ]
  },
  {
   "cell_type": "code",
   "execution_count": 8,
   "metadata": {},
   "outputs": [],
   "source": [
    "def removeItemFrom(myheap_1):\n",
    "    myheap_1.remove(1)"
   ]
  },
  {
   "cell_type": "code",
   "execution_count": 9,
   "metadata": {},
   "outputs": [
    {
     "data": {
      "text/plain": [
       "([8, 10, 3, 4, 7, 15, 2, 16], [2, 3, 4, 7, 8, 10, 15, 16])"
      ]
     },
     "execution_count": 9,
     "metadata": {},
     "output_type": "execute_result"
    }
   ],
   "source": [
    "my_array_1=[8,10,3,4,7,15,1,2,16]\n",
    "removeItemFrom(my_array_1)\n",
    "my_array_2=heapsort(my_array_1)\n",
    "my_array_1,my_array_2"
   ]
  }
 ],
 "metadata": {
  "kernelspec": {
   "display_name": "Python 3",
   "language": "python",
   "name": "python3"
  },
  "language_info": {
   "codemirror_mode": {
    "name": "ipython",
    "version": 3
   },
   "file_extension": ".py",
   "mimetype": "text/x-python",
   "name": "python",
   "nbconvert_exporter": "python",
   "pygments_lexer": "ipython3",
   "version": "3.7.6"
  }
 },
 "nbformat": 4,
 "nbformat_minor": 4
}
