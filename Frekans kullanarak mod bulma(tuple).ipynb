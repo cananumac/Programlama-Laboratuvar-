{
 "cells": [
  {
   "cell_type": "code",
   "execution_count": 1,
   "metadata": {},
   "outputs": [
    {
     "data": {
      "text/plain": [
       "[2, 4, -1, 2, -2, 0, 3, -2, 2, 5]"
      ]
     },
     "execution_count": 1,
     "metadata": {},
     "output_type": "execute_result"
    }
   ],
   "source": [
    "import random\n",
    "def get_n_random_numbers(n=10,min_= -5,max_=5):\n",
    "    numbers=[]\n",
    "    for i in range(n):\n",
    "        numbers.append(random.randint(min_,max_))\n",
    "    return numbers\n",
    "get_n_random_numbers()"
   ]
  },
  {
   "cell_type": "code",
   "execution_count": 2,
   "metadata": {},
   "outputs": [],
   "source": [
    "def my_frequency_with_list_tuples(list_1):\n",
    "    frequency_list=[]\n",
    "    for i in range(len(list_1)):\n",
    "        s=False\n",
    "        for j in range(len(frequency_list)):\n",
    "            if(list_1[i]== frequency_list[j][0]):\n",
    "                frequency_list[j][1]=frequency_list[j][1]+1\n",
    "                s=True\n",
    "        if(s==False):\n",
    "            frequency_list.append([list_1[i],1])\n",
    "    return frequency_list"
   ]
  },
  {
   "cell_type": "code",
   "execution_count": 3,
   "metadata": {},
   "outputs": [
    {
     "data": {
      "text/plain": [
       "[[1, 1], [-1, 1], [5, 1], [-4, 1], [-2, 1], [3, 1], [2, 2], [4, 1], [-5, 1]]"
      ]
     },
     "execution_count": 3,
     "metadata": {},
     "output_type": "execute_result"
    }
   ],
   "source": [
    "my_list_1=get_n_random_numbers(10)\n",
    "my_hist_list=my_frequency_with_list_tuples(my_list_1)\n",
    "my_hist_list"
   ]
  },
  {
   "cell_type": "code",
   "execution_count": 4,
   "metadata": {},
   "outputs": [],
   "source": [
    "def my_mode_with_list(my_hist_list):\n",
    "    frequency_max=-1\n",
    "    mode=-1\n",
    "    for item,frequency in my_hist_list:\n",
    "        if frequency> frequency_max:\n",
    "            frequency_max=frequency\n",
    "            mode=item\n",
    "    return frequency_max,mode"
   ]
  },
  {
   "cell_type": "code",
   "execution_count": 6,
   "metadata": {},
   "outputs": [
    {
     "data": {
      "text/plain": [
       "(2, 2)"
      ]
     },
     "execution_count": 6,
     "metadata": {},
     "output_type": "execute_result"
    }
   ],
   "source": [
    "my_mode_with_list(my_hist_list)"
   ]
  }
 ],
 "metadata": {
  "kernelspec": {
   "display_name": "Python 3",
   "language": "python",
   "name": "python3"
  },
  "language_info": {
   "codemirror_mode": {
    "name": "ipython",
    "version": 3
   },
   "file_extension": ".py",
   "mimetype": "text/x-python",
   "name": "python",
   "nbconvert_exporter": "python",
   "pygments_lexer": "ipython3",
   "version": "3.7.4"
  }
 },
 "nbformat": 4,
 "nbformat_minor": 2
}
