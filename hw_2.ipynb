{
 "cells": [
  {
   "cell_type": "code",
   "execution_count": 12,
   "metadata": {},
   "outputs": [],
   "source": [
    "def get_words():\n",
    "    my_list=[]\n",
    "    f=open('input_hw_2.csv', 'r+')\n",
    "    contents= f.readlines()\n",
    "    #print(contents)\n",
    "    for line in contents:\n",
    "        #print(line)\n",
    "        word= line.rsplit(\"-\",2)\n",
    "        my_list.append(word[1])     \n",
    "    f.close()\n",
    "    return my_list"
   ]
  },
  {
   "cell_type": "code",
   "execution_count": 13,
   "metadata": {},
   "outputs": [],
   "source": [
    "def my_bubble_sort(my_list):\n",
    "    n=len(my_list)\n",
    "    for i in range(n-1,-1,-1):\n",
    "        for j in range(0,i):\n",
    "            if not (my_list[j]<my_list[j+1]):\n",
    "                temp=my_list[j]\n",
    "                my_list[j]=my_list[j+1]\n",
    "                my_list[j+1]=temp\n",
    "    return my_list"
   ]
  },
  {
   "cell_type": "code",
   "execution_count": 14,
   "metadata": {},
   "outputs": [],
   "source": [
    "def my_frequency_with_list_tuples(list_1):\n",
    "    frequency_list=[]\n",
    "    for i in range(len(list_1)):\n",
    "        s=False\n",
    "        for j in range(len(frequency_list)):\n",
    "            if(list_1[i]== frequency_list[j][0]):\n",
    "                frequency_list[j][1]=frequency_list[j][1]+1\n",
    "                s=True\n",
    "        if(s==False):\n",
    "            frequency_list.append([list_1[i],1])\n",
    "    return frequency_list"
   ]
  },
  {
   "cell_type": "code",
   "execution_count": 15,
   "metadata": {
    "scrolled": true
   },
   "outputs": [
    {
     "data": {
      "text/plain": [
       "[['06', 44],\n",
       " ['07', 39],\n",
       " ['08', 45],\n",
       " ['09', 48],\n",
       " ['10', 40],\n",
       " ['11', 45],\n",
       " ['12', 47]]"
      ]
     },
     "execution_count": 15,
     "metadata": {},
     "output_type": "execute_result"
    }
   ],
   "source": [
    "my_list=get_words()\n",
    "my_list_2=my_frequency_with_list_tuples(my_list)\n",
    "my_bubble_sort(my_list_2)"
   ]
  },
  {
   "cell_type": "code",
   "execution_count": 16,
   "metadata": {},
   "outputs": [],
   "source": [
    "def get_numbers():\n",
    "    my_list=[]\n",
    "    n=len(my_list_2)\n",
    "    for i in range(n):\n",
    "        my_list.append(my_list_2[i][1])\n",
    "    return my_list"
   ]
  },
  {
   "cell_type": "code",
   "execution_count": 17,
   "metadata": {},
   "outputs": [],
   "source": [
    "def my_median(my_list):\n",
    "    my_bubble_sort(my_list)\n",
    "    #print(my_list)\n",
    "    n=len(my_list)\n",
    "    if n%2==1:\n",
    "        middle=int(n/2)\n",
    "        median=my_list[middle]\n",
    "        print(\"Medyan: \",median)\n",
    "    else:\n",
    "        middle_1=my_list[int(n/2)]\n",
    "        middle_2=my_list[int(n/2)-1]\n",
    "        median=(middle_1+middle_2)/2\n",
    "        print(\"Medyan: \",median)"
   ]
  },
  {
   "cell_type": "code",
   "execution_count": 18,
   "metadata": {},
   "outputs": [],
   "source": [
    "def my_mean(my_list):\n",
    "    s,t=0,0\n",
    "    for item in my_list:\n",
    "        s=s+1\n",
    "        t=t+item\n",
    "    mean_= t/s\n",
    "    print(\"Ortalama: \",mean_)"
   ]
  },
  {
   "cell_type": "code",
   "execution_count": 19,
   "metadata": {},
   "outputs": [
    {
     "name": "stdout",
     "output_type": "stream",
     "text": [
      "[39, 40, 44, 45, 45, 47, 48]\n",
      "Medyan:  45\n",
      "Ortalama:  44.0\n"
     ]
    }
   ],
   "source": [
    "my_list_3=get_numbers()\n",
    "my_bubble_sort(my_list_3)\n",
    "print(my_list_3)\n",
    "my_median(my_list_3)\n",
    "my_mean(my_list_3)"
   ]
  }
 ],
 "metadata": {
  "kernelspec": {
   "display_name": "Python 3",
   "language": "python",
   "name": "python3"
  },
  "language_info": {
   "codemirror_mode": {
    "name": "ipython",
    "version": 3
   },
   "file_extension": ".py",
   "mimetype": "text/x-python",
   "name": "python",
   "nbconvert_exporter": "python",
   "pygments_lexer": "ipython3",
   "version": "3.7.4"
  }
 },
 "nbformat": 4,
 "nbformat_minor": 2
}
