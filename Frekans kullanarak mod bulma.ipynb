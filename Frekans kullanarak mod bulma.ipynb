{
 "cells": [
  {
   "cell_type": "code",
   "execution_count": 1,
   "metadata": {},
   "outputs": [
    {
     "data": {
      "text/plain": [
       "[2, 0, 2, -3, 4, -2, -1, -4, -5, -2]"
      ]
     },
     "execution_count": 1,
     "metadata": {},
     "output_type": "execute_result"
    }
   ],
   "source": [
    "import random\n",
    "def get_n_random_numbers(n=10,min_= -5,max_=5):\n",
    "    numbers=[]\n",
    "    for i in range(n):\n",
    "        numbers.append(random.randint(min_,max_))\n",
    "    return numbers\n",
    "get_n_random_numbers()"
   ]
  },
  {
   "cell_type": "code",
   "execution_count": 2,
   "metadata": {},
   "outputs": [],
   "source": [
    "def my_frequency_with_dict(list):\n",
    "    frequency_dict={}\n",
    "    for item in list:\n",
    "        if(item in frequency_dict):\n",
    "            frequency_dict[item]=frequency_dict[item]+1\n",
    "        else:\n",
    "            frequency_dict[item]=1\n",
    "    return frequency_dict"
   ]
  },
  {
   "cell_type": "code",
   "execution_count": 4,
   "metadata": {},
   "outputs": [
    {
     "data": {
      "text/plain": [
       "{2: 5, 3: 3, 5: 2, 6: 3, 8: 1, 0: 1, 1: 1, 4: 1, 7: 1}"
      ]
     },
     "execution_count": 4,
     "metadata": {},
     "output_type": "execute_result"
    }
   ],
   "source": [
    "my_list=[2,3,2,5,6,8,0,6,5,3,1,4,6,7,3,2,2,2]\n",
    "result=my_frequency_with_dict(my_list)\n",
    "result"
   ]
  },
  {
   "cell_type": "code",
   "execution_count": 5,
   "metadata": {},
   "outputs": [
    {
     "data": {
      "text/plain": [
       "{-3: 2, 3: 3, 2: 1, -1: 2, 4: 2}"
      ]
     },
     "execution_count": 5,
     "metadata": {},
     "output_type": "execute_result"
    }
   ],
   "source": [
    "my_list_1=get_n_random_numbers(10)\n",
    "my_hist_d=my_frequency_with_dict(my_list_1)\n",
    "my_hist_d"
   ]
  },
  {
   "cell_type": "code",
   "execution_count": 6,
   "metadata": {},
   "outputs": [],
   "source": [
    "def my_mode_with_dict(my_hist_d):\n",
    "    frequency_max=-1\n",
    "    mode=-1\n",
    "    for key in my_hist_d.keys():\n",
    "        if my_hist_d[key]>frequency_max:\n",
    "            frequency_max=my_hist_d[key]\n",
    "            mode=key\n",
    "    return frequency_max,mode"
   ]
  },
  {
   "cell_type": "code",
   "execution_count": 7,
   "metadata": {},
   "outputs": [
    {
     "data": {
      "text/plain": [
       "(3, 3)"
      ]
     },
     "execution_count": 7,
     "metadata": {},
     "output_type": "execute_result"
    }
   ],
   "source": [
    "my_mode_with_dict(my_hist_d)"
   ]
  }
 ],
 "metadata": {
  "kernelspec": {
   "display_name": "Python 3",
   "language": "python",
   "name": "python3"
  },
  "language_info": {
   "codemirror_mode": {
    "name": "ipython",
    "version": 3
   },
   "file_extension": ".py",
   "mimetype": "text/x-python",
   "name": "python",
   "nbconvert_exporter": "python",
   "pygments_lexer": "ipython3",
   "version": "3.7.4"
  }
 },
 "nbformat": 4,
 "nbformat_minor": 2
}
