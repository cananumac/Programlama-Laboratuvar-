{
 "cells": [
  {
   "cell_type": "code",
   "execution_count": 1,
   "metadata": {},
   "outputs": [],
   "source": [
    "class Item (object):\n",
    "    def __init__(self,n,v,w):\n",
    "        self.name=n\n",
    "        self.value=v\n",
    "        self.weight=w\n",
    "    def getName(self):\n",
    "        return self.name\n",
    "    def getValue(self):\n",
    "        return self.value\n",
    "    def getWeight(self):\n",
    "        return self.weight\n",
    "    def __str__(self):\n",
    "        result= '<'+ self.name + ',' + str(self.value) + ',' + str(self.weight) + '>'\n",
    "        return result\n",
    "\n",
    "def value(item):\n",
    "    return item.getValue()\n",
    "def weightInverse(item):\n",
    "    return 1.0/item.getWeight()\n",
    "def density(item):\n",
    "    return item.getValue()/item.getWeight()"
   ]
  },
  {
   "cell_type": "code",
   "execution_count": 2,
   "metadata": {},
   "outputs": [],
   "source": [
    "def greedy(items,maxWeight,keyFunction):\n",
    "    itemsCopy= sorted(items,key=keyFunction,reverse=True)\n",
    "    result=[]\n",
    "    totalValue, totalWeight= 0.0 , 0.0\n",
    "    for i in range(len(itemsCopy)):\n",
    "        if(totalWeight+ itemsCopy[i].getWeight()) <= maxWeight:\n",
    "            result.append(itemsCopy[i])\n",
    "            totalWeight += itemsCopy[i].getWeight()\n",
    "            totalValue += itemsCopy[i].getValue()\n",
    "    return (result,totalValue)"
   ]
  },
  {
   "cell_type": "code",
   "execution_count": 3,
   "metadata": {},
   "outputs": [],
   "source": [
    "def buildItems():\n",
    "    names=['clock','painting','radio','vase','book','computer']\n",
    "    values=[175,90,20,50,10,200]\n",
    "    weights=[10,9,4,2,1,20]\n",
    "    Items=[]\n",
    "    for i in range(len(values)):\n",
    "        Items.append(Item(names[i],values[i],weights[i]))\n",
    "    return Items"
   ]
  },
  {
   "cell_type": "code",
   "execution_count": 4,
   "metadata": {},
   "outputs": [],
   "source": [
    "def testGreedy(items,maxWeight,keyFunction):\n",
    "    taken,val=greedy(items,maxWeight,keyFunction)\n",
    "    print('Total value of items taken is',val)\n",
    "    for item in taken:\n",
    "        print(' ',item)"
   ]
  },
  {
   "cell_type": "code",
   "execution_count": 5,
   "metadata": {},
   "outputs": [],
   "source": [
    "def testGreedys(maxWeight=20):\n",
    "    items=buildItems()\n",
    "    print('Use greedy by value to fill knapsack of size',maxWeight)\n",
    "    testGreedy(items,maxWeight,value)\n",
    "    print('\\nUse greedy by weight to fill knapsack of size',maxWeight)\n",
    "    testGreedy(items,maxWeight,weightInverse)\n",
    "    print('\\nUse greedy by density to fill knapsack of size',maxWeight)\n",
    "    testGreedy(items,maxWeight,density)"
   ]
  },
  {
   "cell_type": "code",
   "execution_count": 6,
   "metadata": {},
   "outputs": [],
   "source": [
    "def chooseBest(pset,maxWeight,getVal,getWeight):\n",
    "    bestVal= 0.0\n",
    "    bestSet= None\n",
    "    for items in pset:\n",
    "        itemsVal= 0.0\n",
    "        itemsWeight= 0.0\n",
    "        for item in items:\n",
    "            itemsVal += getVal(item)\n",
    "            itemsWeight += getWeight(item)\n",
    "        if itemsWeight <= maxWeight and itemsVal > bestVal:\n",
    "            bestVal= itemsVal\n",
    "            bestSet= items\n",
    "    return (bestSet,bestVal)\n",
    "\n",
    "def testBest(maxWeight=20):\n",
    "    items=buildItems()\n",
    "    pset=genPowerset(items)\n",
    "    taken, val= chooseBest(pset,maxWeight,Item.getValue,Item.getWeight)\n",
    "    print('Total value of items taken is',val)\n",
    "    for item in taken:\n",
    "        print(item)"
   ]
  },
  {
   "cell_type": "code",
   "execution_count": 7,
   "metadata": {},
   "outputs": [],
   "source": [
    "from pprint import pprint as pp\n",
    "from itertools import chain, combinations\n",
    "def genPowerset(iterable):\n",
    "    s=list(iterable)\n",
    "    return chain.from_iterable(combinations(s,r) for r in range (len(s)+1))"
   ]
  },
  {
   "cell_type": "code",
   "execution_count": 8,
   "metadata": {},
   "outputs": [
    {
     "name": "stdout",
     "output_type": "stream",
     "text": [
      "Use greedy by value to fill knapsack of size 20\n",
      "Total value of items taken is 200.0\n",
      "  <computer,200,20>\n",
      "\n",
      "Use greedy by weight to fill knapsack of size 20\n",
      "Total value of items taken is 170.0\n",
      "  <book,10,1>\n",
      "  <vase,50,2>\n",
      "  <radio,20,4>\n",
      "  <painting,90,9>\n",
      "\n",
      "Use greedy by density to fill knapsack of size 20\n",
      "Total value of items taken is 255.0\n",
      "  <vase,50,2>\n",
      "  <clock,175,10>\n",
      "  <book,10,1>\n",
      "  <radio,20,4>\n"
     ]
    }
   ],
   "source": [
    "testGreedys(maxWeight=20)"
   ]
  },
  {
   "cell_type": "code",
   "execution_count": 9,
   "metadata": {},
   "outputs": [
    {
     "name": "stdout",
     "output_type": "stream",
     "text": [
      "Use greedy by value to fill knapsack of size 100\n",
      "Total value of items taken is 545.0\n",
      "  <computer,200,20>\n",
      "  <clock,175,10>\n",
      "  <painting,90,9>\n",
      "  <vase,50,2>\n",
      "  <radio,20,4>\n",
      "  <book,10,1>\n",
      "\n",
      "Use greedy by weight to fill knapsack of size 100\n",
      "Total value of items taken is 545.0\n",
      "  <book,10,1>\n",
      "  <vase,50,2>\n",
      "  <radio,20,4>\n",
      "  <painting,90,9>\n",
      "  <clock,175,10>\n",
      "  <computer,200,20>\n",
      "\n",
      "Use greedy by density to fill knapsack of size 100\n",
      "Total value of items taken is 545.0\n",
      "  <vase,50,2>\n",
      "  <clock,175,10>\n",
      "  <painting,90,9>\n",
      "  <book,10,1>\n",
      "  <computer,200,20>\n",
      "  <radio,20,4>\n"
     ]
    }
   ],
   "source": [
    "testGreedys(maxWeight=100)"
   ]
  },
  {
   "cell_type": "code",
   "execution_count": 10,
   "metadata": {},
   "outputs": [
    {
     "name": "stdout",
     "output_type": "stream",
     "text": [
      "Total value of items taken is 275.0\n",
      "<clock,175,10>\n",
      "<painting,90,9>\n",
      "<book,10,1>\n"
     ]
    }
   ],
   "source": [
    "testBest(maxWeight=20)"
   ]
  },
  {
   "cell_type": "code",
   "execution_count": 11,
   "metadata": {},
   "outputs": [
    {
     "name": "stdout",
     "output_type": "stream",
     "text": [
      "Total value of items taken is 545.0\n",
      "<clock,175,10>\n",
      "<painting,90,9>\n",
      "<radio,20,4>\n",
      "<vase,50,2>\n",
      "<book,10,1>\n",
      "<computer,200,20>\n"
     ]
    }
   ],
   "source": [
    "testBest(maxWeight=50)"
   ]
  }
 ],
 "metadata": {
  "kernelspec": {
   "display_name": "Python 3",
   "language": "python",
   "name": "python3"
  },
  "language_info": {
   "codemirror_mode": {
    "name": "ipython",
    "version": 3
   },
   "file_extension": ".py",
   "mimetype": "text/x-python",
   "name": "python",
   "nbconvert_exporter": "python",
   "pygments_lexer": "ipython3",
   "version": "3.7.6"
  }
 },
 "nbformat": 4,
 "nbformat_minor": 4
}
